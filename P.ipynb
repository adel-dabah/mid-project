{
 "cells": [
  {
   "cell_type": "code",
   "execution_count": 22,
   "metadata": {},
   "outputs": [],
   "source": [
    "import numpy as np \n",
    "import pandas as pd "
   ]
  },
  {
   "cell_type": "code",
   "execution_count": 23,
   "metadata": {},
   "outputs": [],
   "source": [
    "#Loading data from CVS file"
   ]
  },
  {
   "cell_type": "markdown",
   "metadata": {},
   "source": []
  },
  {
   "cell_type": "code",
   "execution_count": 24,
   "metadata": {},
   "outputs": [
    {
     "data": {
      "text/html": [
       "<div>\n",
       "<style scoped>\n",
       "    .dataframe tbody tr th:only-of-type {\n",
       "        vertical-align: middle;\n",
       "    }\n",
       "\n",
       "    .dataframe tbody tr th {\n",
       "        vertical-align: top;\n",
       "    }\n",
       "\n",
       "    .dataframe thead th {\n",
       "        text-align: right;\n",
       "    }\n",
       "</style>\n",
       "<table border=\"1\" class=\"dataframe\">\n",
       "  <thead>\n",
       "    <tr style=\"text-align: right;\">\n",
       "      <th></th>\n",
       "      <th>Prospect ID</th>\n",
       "      <th>Lead Number</th>\n",
       "      <th>Lead Origin</th>\n",
       "      <th>Lead Source</th>\n",
       "      <th>Do Not Email</th>\n",
       "      <th>Do Not Call</th>\n",
       "      <th>Converted</th>\n",
       "      <th>TotalVisits</th>\n",
       "      <th>Total Time Spent on Website</th>\n",
       "      <th>Page Views Per Visit</th>\n",
       "      <th>...</th>\n",
       "      <th>Get updates on DM Content</th>\n",
       "      <th>Lead Profile</th>\n",
       "      <th>City</th>\n",
       "      <th>Asymmetrique Activity Index</th>\n",
       "      <th>Asymmetrique Profile Index</th>\n",
       "      <th>Asymmetrique Activity Score</th>\n",
       "      <th>Asymmetrique Profile Score</th>\n",
       "      <th>I agree to pay the amount through cheque</th>\n",
       "      <th>A free copy of Mastering The Interview</th>\n",
       "      <th>Last Notable Activity</th>\n",
       "    </tr>\n",
       "  </thead>\n",
       "  <tbody>\n",
       "    <tr>\n",
       "      <th>0</th>\n",
       "      <td>7927b2df-8bba-4d29-b9a2-b6e0beafe620</td>\n",
       "      <td>660737</td>\n",
       "      <td>API</td>\n",
       "      <td>Olark Chat</td>\n",
       "      <td>No</td>\n",
       "      <td>No</td>\n",
       "      <td>0</td>\n",
       "      <td>0.0</td>\n",
       "      <td>0</td>\n",
       "      <td>0.0</td>\n",
       "      <td>...</td>\n",
       "      <td>No</td>\n",
       "      <td>Select</td>\n",
       "      <td>Select</td>\n",
       "      <td>02.Medium</td>\n",
       "      <td>02.Medium</td>\n",
       "      <td>15.0</td>\n",
       "      <td>15.0</td>\n",
       "      <td>No</td>\n",
       "      <td>No</td>\n",
       "      <td>Modified</td>\n",
       "    </tr>\n",
       "    <tr>\n",
       "      <th>1</th>\n",
       "      <td>2a272436-5132-4136-86fa-dcc88c88f482</td>\n",
       "      <td>660728</td>\n",
       "      <td>API</td>\n",
       "      <td>Organic Search</td>\n",
       "      <td>No</td>\n",
       "      <td>No</td>\n",
       "      <td>0</td>\n",
       "      <td>5.0</td>\n",
       "      <td>674</td>\n",
       "      <td>2.5</td>\n",
       "      <td>...</td>\n",
       "      <td>No</td>\n",
       "      <td>Select</td>\n",
       "      <td>Select</td>\n",
       "      <td>02.Medium</td>\n",
       "      <td>02.Medium</td>\n",
       "      <td>15.0</td>\n",
       "      <td>15.0</td>\n",
       "      <td>No</td>\n",
       "      <td>No</td>\n",
       "      <td>Email Opened</td>\n",
       "    </tr>\n",
       "    <tr>\n",
       "      <th>2</th>\n",
       "      <td>8cc8c611-a219-4f35-ad23-fdfd2656bd8a</td>\n",
       "      <td>660727</td>\n",
       "      <td>Landing Page Submission</td>\n",
       "      <td>Direct Traffic</td>\n",
       "      <td>No</td>\n",
       "      <td>No</td>\n",
       "      <td>1</td>\n",
       "      <td>2.0</td>\n",
       "      <td>1532</td>\n",
       "      <td>2.0</td>\n",
       "      <td>...</td>\n",
       "      <td>No</td>\n",
       "      <td>Potential Lead</td>\n",
       "      <td>Mumbai</td>\n",
       "      <td>02.Medium</td>\n",
       "      <td>01.High</td>\n",
       "      <td>14.0</td>\n",
       "      <td>20.0</td>\n",
       "      <td>No</td>\n",
       "      <td>Yes</td>\n",
       "      <td>Email Opened</td>\n",
       "    </tr>\n",
       "    <tr>\n",
       "      <th>3</th>\n",
       "      <td>0cc2df48-7cf4-4e39-9de9-19797f9b38cc</td>\n",
       "      <td>660719</td>\n",
       "      <td>Landing Page Submission</td>\n",
       "      <td>Direct Traffic</td>\n",
       "      <td>No</td>\n",
       "      <td>No</td>\n",
       "      <td>0</td>\n",
       "      <td>1.0</td>\n",
       "      <td>305</td>\n",
       "      <td>1.0</td>\n",
       "      <td>...</td>\n",
       "      <td>No</td>\n",
       "      <td>Select</td>\n",
       "      <td>Mumbai</td>\n",
       "      <td>02.Medium</td>\n",
       "      <td>01.High</td>\n",
       "      <td>13.0</td>\n",
       "      <td>17.0</td>\n",
       "      <td>No</td>\n",
       "      <td>No</td>\n",
       "      <td>Modified</td>\n",
       "    </tr>\n",
       "    <tr>\n",
       "      <th>4</th>\n",
       "      <td>3256f628-e534-4826-9d63-4a8b88782852</td>\n",
       "      <td>660681</td>\n",
       "      <td>Landing Page Submission</td>\n",
       "      <td>Google</td>\n",
       "      <td>No</td>\n",
       "      <td>No</td>\n",
       "      <td>1</td>\n",
       "      <td>2.0</td>\n",
       "      <td>1428</td>\n",
       "      <td>1.0</td>\n",
       "      <td>...</td>\n",
       "      <td>No</td>\n",
       "      <td>Select</td>\n",
       "      <td>Mumbai</td>\n",
       "      <td>02.Medium</td>\n",
       "      <td>01.High</td>\n",
       "      <td>15.0</td>\n",
       "      <td>18.0</td>\n",
       "      <td>No</td>\n",
       "      <td>No</td>\n",
       "      <td>Modified</td>\n",
       "    </tr>\n",
       "  </tbody>\n",
       "</table>\n",
       "<p>5 rows × 37 columns</p>\n",
       "</div>"
      ],
      "text/plain": [
       "                            Prospect ID  Lead Number              Lead Origin  \\\n",
       "0  7927b2df-8bba-4d29-b9a2-b6e0beafe620       660737                      API   \n",
       "1  2a272436-5132-4136-86fa-dcc88c88f482       660728                      API   \n",
       "2  8cc8c611-a219-4f35-ad23-fdfd2656bd8a       660727  Landing Page Submission   \n",
       "3  0cc2df48-7cf4-4e39-9de9-19797f9b38cc       660719  Landing Page Submission   \n",
       "4  3256f628-e534-4826-9d63-4a8b88782852       660681  Landing Page Submission   \n",
       "\n",
       "      Lead Source Do Not Email Do Not Call  Converted  TotalVisits  \\\n",
       "0      Olark Chat           No          No          0          0.0   \n",
       "1  Organic Search           No          No          0          5.0   \n",
       "2  Direct Traffic           No          No          1          2.0   \n",
       "3  Direct Traffic           No          No          0          1.0   \n",
       "4          Google           No          No          1          2.0   \n",
       "\n",
       "   Total Time Spent on Website  Page Views Per Visit  ...  \\\n",
       "0                            0                   0.0  ...   \n",
       "1                          674                   2.5  ...   \n",
       "2                         1532                   2.0  ...   \n",
       "3                          305                   1.0  ...   \n",
       "4                         1428                   1.0  ...   \n",
       "\n",
       "  Get updates on DM Content    Lead Profile    City  \\\n",
       "0                        No          Select  Select   \n",
       "1                        No          Select  Select   \n",
       "2                        No  Potential Lead  Mumbai   \n",
       "3                        No          Select  Mumbai   \n",
       "4                        No          Select  Mumbai   \n",
       "\n",
       "  Asymmetrique Activity Index Asymmetrique Profile Index  \\\n",
       "0                   02.Medium                  02.Medium   \n",
       "1                   02.Medium                  02.Medium   \n",
       "2                   02.Medium                    01.High   \n",
       "3                   02.Medium                    01.High   \n",
       "4                   02.Medium                    01.High   \n",
       "\n",
       "  Asymmetrique Activity Score Asymmetrique Profile Score  \\\n",
       "0                        15.0                       15.0   \n",
       "1                        15.0                       15.0   \n",
       "2                        14.0                       20.0   \n",
       "3                        13.0                       17.0   \n",
       "4                        15.0                       18.0   \n",
       "\n",
       "  I agree to pay the amount through cheque  \\\n",
       "0                                       No   \n",
       "1                                       No   \n",
       "2                                       No   \n",
       "3                                       No   \n",
       "4                                       No   \n",
       "\n",
       "  A free copy of Mastering The Interview Last Notable Activity  \n",
       "0                                     No              Modified  \n",
       "1                                     No          Email Opened  \n",
       "2                                    Yes          Email Opened  \n",
       "3                                     No              Modified  \n",
       "4                                     No              Modified  \n",
       "\n",
       "[5 rows x 37 columns]"
      ]
     },
     "execution_count": 24,
     "metadata": {},
     "output_type": "execute_result"
    }
   ],
   "source": [
    "data=\"Leads.csv\"\n",
    "df1=pd.read_csv(data)\n",
    "df1.head()"
   ]
  },
  {
   "cell_type": "markdown",
   "metadata": {},
   "source": [
    "Exploratory data analysis [EDA]"
   ]
  },
  {
   "cell_type": "code",
   "execution_count": 25,
   "metadata": {},
   "outputs": [
    {
     "data": {
      "text/html": [
       "<div>\n",
       "<style scoped>\n",
       "    .dataframe tbody tr th:only-of-type {\n",
       "        vertical-align: middle;\n",
       "    }\n",
       "\n",
       "    .dataframe tbody tr th {\n",
       "        vertical-align: top;\n",
       "    }\n",
       "\n",
       "    .dataframe thead th {\n",
       "        text-align: right;\n",
       "    }\n",
       "</style>\n",
       "<table border=\"1\" class=\"dataframe\">\n",
       "  <thead>\n",
       "    <tr style=\"text-align: right;\">\n",
       "      <th></th>\n",
       "      <th>prospect_id</th>\n",
       "      <th>lead_number</th>\n",
       "      <th>lead_origin</th>\n",
       "      <th>lead_source</th>\n",
       "      <th>do_not_email</th>\n",
       "      <th>do_not_call</th>\n",
       "      <th>converted</th>\n",
       "      <th>totalvisits</th>\n",
       "      <th>total_time_spent_on_website</th>\n",
       "      <th>page_views_per_visit</th>\n",
       "      <th>...</th>\n",
       "      <th>get_updates_on_dm_content</th>\n",
       "      <th>lead_profile</th>\n",
       "      <th>city</th>\n",
       "      <th>asymmetrique_activity_index</th>\n",
       "      <th>asymmetrique_profile_index</th>\n",
       "      <th>asymmetrique_activity_score</th>\n",
       "      <th>asymmetrique_profile_score</th>\n",
       "      <th>i_agree_to_pay_the_amount_through_cheque</th>\n",
       "      <th>a_free_copy_of_mastering_the_interview</th>\n",
       "      <th>last_notable_activity</th>\n",
       "    </tr>\n",
       "  </thead>\n",
       "  <tbody>\n",
       "    <tr>\n",
       "      <th>0</th>\n",
       "      <td>7927b2df-8bba-4d29-b9a2-b6e0beafe620</td>\n",
       "      <td>660737</td>\n",
       "      <td>api</td>\n",
       "      <td>olark_chat</td>\n",
       "      <td>no</td>\n",
       "      <td>no</td>\n",
       "      <td>0</td>\n",
       "      <td>0.0</td>\n",
       "      <td>0</td>\n",
       "      <td>0.0</td>\n",
       "      <td>...</td>\n",
       "      <td>no</td>\n",
       "      <td>select</td>\n",
       "      <td>select</td>\n",
       "      <td>02.medium</td>\n",
       "      <td>02.medium</td>\n",
       "      <td>15.0</td>\n",
       "      <td>15.0</td>\n",
       "      <td>no</td>\n",
       "      <td>no</td>\n",
       "      <td>modified</td>\n",
       "    </tr>\n",
       "    <tr>\n",
       "      <th>1</th>\n",
       "      <td>2a272436-5132-4136-86fa-dcc88c88f482</td>\n",
       "      <td>660728</td>\n",
       "      <td>api</td>\n",
       "      <td>organic_search</td>\n",
       "      <td>no</td>\n",
       "      <td>no</td>\n",
       "      <td>0</td>\n",
       "      <td>5.0</td>\n",
       "      <td>674</td>\n",
       "      <td>2.5</td>\n",
       "      <td>...</td>\n",
       "      <td>no</td>\n",
       "      <td>select</td>\n",
       "      <td>select</td>\n",
       "      <td>02.medium</td>\n",
       "      <td>02.medium</td>\n",
       "      <td>15.0</td>\n",
       "      <td>15.0</td>\n",
       "      <td>no</td>\n",
       "      <td>no</td>\n",
       "      <td>email_opened</td>\n",
       "    </tr>\n",
       "    <tr>\n",
       "      <th>2</th>\n",
       "      <td>8cc8c611-a219-4f35-ad23-fdfd2656bd8a</td>\n",
       "      <td>660727</td>\n",
       "      <td>landing_page_submission</td>\n",
       "      <td>direct_traffic</td>\n",
       "      <td>no</td>\n",
       "      <td>no</td>\n",
       "      <td>1</td>\n",
       "      <td>2.0</td>\n",
       "      <td>1532</td>\n",
       "      <td>2.0</td>\n",
       "      <td>...</td>\n",
       "      <td>no</td>\n",
       "      <td>potential_lead</td>\n",
       "      <td>mumbai</td>\n",
       "      <td>02.medium</td>\n",
       "      <td>01.high</td>\n",
       "      <td>14.0</td>\n",
       "      <td>20.0</td>\n",
       "      <td>no</td>\n",
       "      <td>yes</td>\n",
       "      <td>email_opened</td>\n",
       "    </tr>\n",
       "    <tr>\n",
       "      <th>3</th>\n",
       "      <td>0cc2df48-7cf4-4e39-9de9-19797f9b38cc</td>\n",
       "      <td>660719</td>\n",
       "      <td>landing_page_submission</td>\n",
       "      <td>direct_traffic</td>\n",
       "      <td>no</td>\n",
       "      <td>no</td>\n",
       "      <td>0</td>\n",
       "      <td>1.0</td>\n",
       "      <td>305</td>\n",
       "      <td>1.0</td>\n",
       "      <td>...</td>\n",
       "      <td>no</td>\n",
       "      <td>select</td>\n",
       "      <td>mumbai</td>\n",
       "      <td>02.medium</td>\n",
       "      <td>01.high</td>\n",
       "      <td>13.0</td>\n",
       "      <td>17.0</td>\n",
       "      <td>no</td>\n",
       "      <td>no</td>\n",
       "      <td>modified</td>\n",
       "    </tr>\n",
       "    <tr>\n",
       "      <th>4</th>\n",
       "      <td>3256f628-e534-4826-9d63-4a8b88782852</td>\n",
       "      <td>660681</td>\n",
       "      <td>landing_page_submission</td>\n",
       "      <td>google</td>\n",
       "      <td>no</td>\n",
       "      <td>no</td>\n",
       "      <td>1</td>\n",
       "      <td>2.0</td>\n",
       "      <td>1428</td>\n",
       "      <td>1.0</td>\n",
       "      <td>...</td>\n",
       "      <td>no</td>\n",
       "      <td>select</td>\n",
       "      <td>mumbai</td>\n",
       "      <td>02.medium</td>\n",
       "      <td>01.high</td>\n",
       "      <td>15.0</td>\n",
       "      <td>18.0</td>\n",
       "      <td>no</td>\n",
       "      <td>no</td>\n",
       "      <td>modified</td>\n",
       "    </tr>\n",
       "  </tbody>\n",
       "</table>\n",
       "<p>5 rows × 37 columns</p>\n",
       "</div>"
      ],
      "text/plain": [
       "                            prospect_id  lead_number              lead_origin  \\\n",
       "0  7927b2df-8bba-4d29-b9a2-b6e0beafe620       660737                      api   \n",
       "1  2a272436-5132-4136-86fa-dcc88c88f482       660728                      api   \n",
       "2  8cc8c611-a219-4f35-ad23-fdfd2656bd8a       660727  landing_page_submission   \n",
       "3  0cc2df48-7cf4-4e39-9de9-19797f9b38cc       660719  landing_page_submission   \n",
       "4  3256f628-e534-4826-9d63-4a8b88782852       660681  landing_page_submission   \n",
       "\n",
       "      lead_source do_not_email do_not_call  converted  totalvisits  \\\n",
       "0      olark_chat           no          no          0          0.0   \n",
       "1  organic_search           no          no          0          5.0   \n",
       "2  direct_traffic           no          no          1          2.0   \n",
       "3  direct_traffic           no          no          0          1.0   \n",
       "4          google           no          no          1          2.0   \n",
       "\n",
       "   total_time_spent_on_website  page_views_per_visit  ...  \\\n",
       "0                            0                   0.0  ...   \n",
       "1                          674                   2.5  ...   \n",
       "2                         1532                   2.0  ...   \n",
       "3                          305                   1.0  ...   \n",
       "4                         1428                   1.0  ...   \n",
       "\n",
       "  get_updates_on_dm_content    lead_profile    city  \\\n",
       "0                        no          select  select   \n",
       "1                        no          select  select   \n",
       "2                        no  potential_lead  mumbai   \n",
       "3                        no          select  mumbai   \n",
       "4                        no          select  mumbai   \n",
       "\n",
       "  asymmetrique_activity_index asymmetrique_profile_index  \\\n",
       "0                   02.medium                  02.medium   \n",
       "1                   02.medium                  02.medium   \n",
       "2                   02.medium                    01.high   \n",
       "3                   02.medium                    01.high   \n",
       "4                   02.medium                    01.high   \n",
       "\n",
       "  asymmetrique_activity_score asymmetrique_profile_score  \\\n",
       "0                        15.0                       15.0   \n",
       "1                        15.0                       15.0   \n",
       "2                        14.0                       20.0   \n",
       "3                        13.0                       17.0   \n",
       "4                        15.0                       18.0   \n",
       "\n",
       "  i_agree_to_pay_the_amount_through_cheque  \\\n",
       "0                                       no   \n",
       "1                                       no   \n",
       "2                                       no   \n",
       "3                                       no   \n",
       "4                                       no   \n",
       "\n",
       "  a_free_copy_of_mastering_the_interview last_notable_activity  \n",
       "0                                     no              modified  \n",
       "1                                     no          email_opened  \n",
       "2                                    yes          email_opened  \n",
       "3                                     no              modified  \n",
       "4                                     no              modified  \n",
       "\n",
       "[5 rows x 37 columns]"
      ]
     },
     "execution_count": 25,
     "metadata": {},
     "output_type": "execute_result"
    }
   ],
   "source": [
    "\n",
    "df1.columns = df1.columns.str.lower().str.replace(' ', '_')\n",
    "\n",
    "string_columns = list(df1.dtypes[df1.dtypes == 'object'].index)\n",
    "\n",
    "for col in string_columns:\n",
    "    df1[col] = df1[col].str.lower().str.replace(' ', '_')\n",
    "df1.head()"
   ]
  },
  {
   "cell_type": "code",
   "execution_count": 26,
   "metadata": {},
   "outputs": [
    {
     "data": {
      "text/plain": [
       "prospect_id                                       object\n",
       "lead_number                                        int64\n",
       "lead_origin                                       object\n",
       "lead_source                                       object\n",
       "do_not_email                                      object\n",
       "do_not_call                                       object\n",
       "converted                                          int64\n",
       "totalvisits                                      float64\n",
       "total_time_spent_on_website                        int64\n",
       "page_views_per_visit                             float64\n",
       "last_activity                                     object\n",
       "country                                           object\n",
       "specialization                                    object\n",
       "how_did_you_hear_about_x_education                object\n",
       "what_is_your_current_occupation                   object\n",
       "what_matters_most_to_you_in_choosing_a_course     object\n",
       "search                                            object\n",
       "magazine                                          object\n",
       "newspaper_article                                 object\n",
       "x_education_forums                                object\n",
       "newspaper                                         object\n",
       "digital_advertisement                             object\n",
       "through_recommendations                           object\n",
       "receive_more_updates_about_our_courses            object\n",
       "tags                                              object\n",
       "lead_quality                                      object\n",
       "update_me_on_supply_chain_content                 object\n",
       "get_updates_on_dm_content                         object\n",
       "lead_profile                                      object\n",
       "city                                              object\n",
       "asymmetrique_activity_index                       object\n",
       "asymmetrique_profile_index                        object\n",
       "asymmetrique_activity_score                      float64\n",
       "asymmetrique_profile_score                       float64\n",
       "i_agree_to_pay_the_amount_through_cheque          object\n",
       "a_free_copy_of_mastering_the_interview            object\n",
       "last_notable_activity                             object\n",
       "dtype: object"
      ]
     },
     "execution_count": 26,
     "metadata": {},
     "output_type": "execute_result"
    }
   ],
   "source": [
    "df1.dtypes"
   ]
  },
  {
   "cell_type": "code",
   "execution_count": 27,
   "metadata": {},
   "outputs": [
    {
     "data": {
      "text/plain": [
       "prospect_id                                      9240\n",
       "lead_number                                      9240\n",
       "lead_origin                                         5\n",
       "lead_source                                        20\n",
       "do_not_email                                        2\n",
       "do_not_call                                         2\n",
       "converted                                           2\n",
       "totalvisits                                        41\n",
       "total_time_spent_on_website                      1731\n",
       "page_views_per_visit                              114\n",
       "last_activity                                      17\n",
       "country                                            38\n",
       "specialization                                     19\n",
       "how_did_you_hear_about_x_education                 10\n",
       "what_is_your_current_occupation                     6\n",
       "what_matters_most_to_you_in_choosing_a_course       3\n",
       "search                                              2\n",
       "magazine                                            1\n",
       "newspaper_article                                   2\n",
       "x_education_forums                                  2\n",
       "newspaper                                           2\n",
       "digital_advertisement                               2\n",
       "through_recommendations                             2\n",
       "receive_more_updates_about_our_courses              1\n",
       "tags                                               26\n",
       "lead_quality                                        5\n",
       "update_me_on_supply_chain_content                   1\n",
       "get_updates_on_dm_content                           1\n",
       "lead_profile                                        6\n",
       "city                                                7\n",
       "asymmetrique_activity_index                         3\n",
       "asymmetrique_profile_index                          3\n",
       "asymmetrique_activity_score                        12\n",
       "asymmetrique_profile_score                         10\n",
       "i_agree_to_pay_the_amount_through_cheque            1\n",
       "a_free_copy_of_mastering_the_interview              2\n",
       "last_notable_activity                              16\n",
       "dtype: int64"
      ]
     },
     "execution_count": 27,
     "metadata": {},
     "output_type": "execute_result"
    }
   ],
   "source": [
    "df1.nunique()"
   ]
  },
  {
   "cell_type": "code",
   "execution_count": 28,
   "metadata": {},
   "outputs": [
    {
     "name": "stdout",
     "output_type": "stream",
     "text": [
      "prospect_id 9240\n",
      "['7927b2df-8bba-4d29-b9a2-b6e0beafe620'\n",
      " '2a272436-5132-4136-86fa-dcc88c88f482'\n",
      " '8cc8c611-a219-4f35-ad23-fdfd2656bd8a' ...\n",
      " 'aac550fe-a586-452d-8d3c-f1b62c94e02c'\n",
      " '5330a7d1-2f2b-4df4-85d6-64ca2f6b95b9'\n",
      " '571b5c8e-a5b2-4d57-8574-f2ffb06fdeff']\n",
      "\n",
      "\n",
      "lead_number 9240\n",
      "[660737 660728 660727 ... 579545 579538 579533]\n",
      "\n",
      "\n",
      "lead_origin 5\n",
      "['api' 'landing_page_submission' 'lead_add_form' 'lead_import'\n",
      " 'quick_add_form']\n",
      "\n",
      "\n",
      "lead_source 20\n",
      "['olark_chat' 'organic_search' 'direct_traffic' 'google' 'referral_sites'\n",
      " 'welingak_website' 'reference' 'facebook' nan 'blog' 'pay_per_click_ads'\n",
      " 'bing' 'social_media' 'welearn' 'click2call' 'live_chat'\n",
      " 'welearnblog_home' 'youtubechannel' 'testone' 'press_release' 'nc_edm']\n",
      "\n",
      "\n",
      "do_not_email 2\n",
      "['no' 'yes']\n",
      "\n",
      "\n",
      "do_not_call 2\n",
      "['no' 'yes']\n",
      "\n",
      "\n",
      "converted 2\n",
      "[0 1]\n",
      "\n",
      "\n",
      "totalvisits 41\n",
      "[  0.   5.   2.   1.   4.   8.  11.   6.   3.   7.  13.  17.  nan   9.\n",
      "  12.  10.  16.  14.  21.  15.  22.  19.  18.  20.  43.  30.  23.  55.\n",
      " 141.  25.  27.  29.  24.  28.  26.  74.  41.  54. 115. 251.  32.  42.]\n",
      "\n",
      "\n",
      "total_time_spent_on_website 1731\n",
      "[   0  674 1532 ...  603  483  927]\n",
      "\n",
      "\n",
      "page_views_per_visit 114\n",
      "[ 0.    2.5   2.    1.    4.    8.    2.67 11.    5.    6.    3.    1.33\n",
      "  1.5   3.5   7.    2.33 13.    8.5   5.5   1.67   nan  4.5   3.33 16.\n",
      " 12.    1.71  1.8   6.5   4.33 14.    3.4  10.    1.25  1.75  2.63 15.\n",
      "  2.25  3.67  1.43  9.    2.6   4.75  1.27  3.25  5.33  2.57  2.17  2.75\n",
      "  2.8   2.2   2.86  3.91  1.4   5.67  3.2   1.38  2.09  2.4  55.    5.25\n",
      "  6.71  3.57  2.22  1.83  3.6   1.2   1.57  1.56  5.4   4.25  1.31  1.6\n",
      "  2.9   1.23  1.78  3.83  7.5   1.14  2.71  1.45  2.38  1.86  2.29  1.21\n",
      " 12.33  3.43  2.56  6.33  1.64  8.21  4.4   3.17  8.33  1.48  1.22 24.\n",
      "  3.75  6.67  1.54  2.13  2.14  2.45  3.29  4.17  1.63  3.38  1.17 14.5\n",
      "  3.8   1.19  3.82  2.83  1.93 11.5   2.08]\n",
      "\n",
      "\n",
      "last_activity 17\n",
      "['page_visited_on_website' 'email_opened' 'unreachable'\n",
      " 'converted_to_lead' 'olark_chat_conversation' 'email_bounced'\n",
      " 'email_link_clicked' 'form_submitted_on_website' 'unsubscribed'\n",
      " 'had_a_phone_conversation' 'view_in_browser_link_clicked' nan\n",
      " 'approached_upfront' 'sms_sent' 'visited_booth_in_tradeshow'\n",
      " 'resubscribed_to_emails' 'email_received' 'email_marked_spam']\n",
      "\n",
      "\n",
      "country 38\n",
      "[nan 'india' 'russia' 'kuwait' 'oman' 'united_arab_emirates'\n",
      " 'united_states' 'australia' 'united_kingdom' 'bahrain' 'ghana'\n",
      " 'singapore' 'qatar' 'saudi_arabia' 'belgium' 'france' 'sri_lanka' 'china'\n",
      " 'canada' 'netherlands' 'sweden' 'nigeria' 'hong_kong' 'germany'\n",
      " 'asia/pacific_region' 'uganda' 'kenya' 'italy' 'south_africa' 'tanzania'\n",
      " 'unknown' 'malaysia' 'liberia' 'switzerland' 'denmark' 'philippines'\n",
      " 'bangladesh' 'vietnam' 'indonesia']\n",
      "\n",
      "\n",
      "specialization 19\n",
      "['select' 'business_administration' 'media_and_advertising' nan\n",
      " 'supply_chain_management' 'it_projects_management' 'finance_management'\n",
      " 'travel_and_tourism' 'human_resource_management' 'marketing_management'\n",
      " 'banking,_investment_and_insurance' 'international_business' 'e-commerce'\n",
      " 'operations_management' 'retail_management' 'services_excellence'\n",
      " 'hospitality_management' 'rural_and_agribusiness' 'healthcare_management'\n",
      " 'e-business']\n",
      "\n",
      "\n",
      "how_did_you_hear_about_x_education 10\n",
      "['select' 'word_of_mouth' 'other' nan 'online_search' 'multiple_sources'\n",
      " 'advertisements' 'student_of_someschool' 'email' 'social_media' 'sms']\n",
      "\n",
      "\n",
      "what_is_your_current_occupation 6\n",
      "['unemployed' 'student' nan 'working_professional' 'businessman' 'other'\n",
      " 'housewife']\n",
      "\n",
      "\n",
      "what_matters_most_to_you_in_choosing_a_course 3\n",
      "['better_career_prospects' nan 'flexibility_&_convenience' 'other']\n",
      "\n",
      "\n",
      "search 2\n",
      "['no' 'yes']\n",
      "\n",
      "\n",
      "magazine 1\n",
      "['no']\n",
      "\n",
      "\n",
      "newspaper_article 2\n",
      "['no' 'yes']\n",
      "\n",
      "\n",
      "x_education_forums 2\n",
      "['no' 'yes']\n",
      "\n",
      "\n",
      "newspaper 2\n",
      "['no' 'yes']\n",
      "\n",
      "\n",
      "digital_advertisement 2\n",
      "['no' 'yes']\n",
      "\n",
      "\n",
      "through_recommendations 2\n",
      "['no' 'yes']\n",
      "\n",
      "\n",
      "receive_more_updates_about_our_courses 1\n",
      "['no']\n",
      "\n",
      "\n",
      "tags 26\n",
      "['interested_in_other_courses' 'ringing'\n",
      " 'will_revert_after_reading_the_email' nan 'lost_to_eins'\n",
      " 'in_confusion_whether_part_time_or_dlp' 'busy' 'switched_off'\n",
      " 'in_touch_with_eins' 'already_a_student' 'diploma_holder_(not_eligible)'\n",
      " 'graduation_in_progress' 'closed_by_horizzon' 'number_not_provided'\n",
      " 'opp_hangup' 'not_doing_further_education' 'invalid_number'\n",
      " 'wrong_number_given' 'interested__in_full_time_mba' 'still_thinking'\n",
      " 'lost_to_others' 'shall_take_in_the_next_coming_month' 'lateral_student'\n",
      " 'interested_in_next_batch' 'recognition_issue_(dec_approval)'\n",
      " 'want_to_take_admission_but_has_financial_problems'\n",
      " 'university_not_recognized']\n",
      "\n",
      "\n",
      "lead_quality 5\n",
      "['low_in_relevance' nan 'might_be' 'not_sure' 'worst' 'high_in_relevance']\n",
      "\n",
      "\n",
      "update_me_on_supply_chain_content 1\n",
      "['no']\n",
      "\n",
      "\n",
      "get_updates_on_dm_content 1\n",
      "['no']\n",
      "\n",
      "\n",
      "lead_profile 6\n",
      "['select' 'potential_lead' nan 'other_leads' 'lateral_student'\n",
      " 'dual_specialization_student' 'student_of_someschool']\n",
      "\n",
      "\n",
      "city 7\n",
      "['select' 'mumbai' nan 'thane_&_outskirts' 'other_metro_cities'\n",
      " 'other_cities' 'other_cities_of_maharashtra' 'tier_ii_cities']\n",
      "\n",
      "\n",
      "asymmetrique_activity_index 3\n",
      "['02.medium' '01.high' '03.low' nan]\n",
      "\n",
      "\n",
      "asymmetrique_profile_index 3\n",
      "['02.medium' '01.high' '03.low' nan]\n",
      "\n",
      "\n",
      "asymmetrique_activity_score 12\n",
      "[15. 14. 13. 17. 16. 11. 12. 10.  9.  8. 18. nan  7.]\n",
      "\n",
      "\n",
      "asymmetrique_profile_score 10\n",
      "[15. 20. 17. 18. 14. 16. 13. 19. 12. nan 11.]\n",
      "\n",
      "\n",
      "i_agree_to_pay_the_amount_through_cheque 1\n",
      "['no']\n",
      "\n",
      "\n",
      "a_free_copy_of_mastering_the_interview 2\n",
      "['no' 'yes']\n",
      "\n",
      "\n",
      "last_notable_activity 16\n",
      "['modified' 'email_opened' 'page_visited_on_website' 'email_bounced'\n",
      " 'email_link_clicked' 'unreachable' 'unsubscribed'\n",
      " 'had_a_phone_conversation' 'olark_chat_conversation' 'sms_sent'\n",
      " 'approached_upfront' 'resubscribed_to_emails'\n",
      " 'view_in_browser_link_clicked' 'form_submitted_on_website'\n",
      " 'email_received' 'email_marked_spam']\n",
      "\n",
      "\n"
     ]
    }
   ],
   "source": [
    "for cl in df1.columns:\n",
    "    print(cl, df1[cl].nunique())\n",
    "    print (df1[cl].unique())\n",
    "    if df1[cl].nunique()==1:\n",
    "        del(df1[cl])\n",
    "\n",
    "    print()\n",
    "    print()"
   ]
  },
  {
   "cell_type": "code",
   "execution_count": 29,
   "metadata": {},
   "outputs": [],
   "source": [
    "# removing these two columns "
   ]
  },
  {
   "cell_type": "code",
   "execution_count": 30,
   "metadata": {},
   "outputs": [],
   "source": [
    "#del (df1['prospect_id'])\n",
    "#del (df1['lead_number'])"
   ]
  },
  {
   "cell_type": "code",
   "execution_count": 31,
   "metadata": {},
   "outputs": [
    {
     "data": {
      "text/html": [
       "<div>\n",
       "<style scoped>\n",
       "    .dataframe tbody tr th:only-of-type {\n",
       "        vertical-align: middle;\n",
       "    }\n",
       "\n",
       "    .dataframe tbody tr th {\n",
       "        vertical-align: top;\n",
       "    }\n",
       "\n",
       "    .dataframe thead th {\n",
       "        text-align: right;\n",
       "    }\n",
       "</style>\n",
       "<table border=\"1\" class=\"dataframe\">\n",
       "  <thead>\n",
       "    <tr style=\"text-align: right;\">\n",
       "      <th></th>\n",
       "      <th>prospect_id</th>\n",
       "      <th>lead_number</th>\n",
       "      <th>lead_origin</th>\n",
       "      <th>lead_source</th>\n",
       "      <th>do_not_email</th>\n",
       "      <th>do_not_call</th>\n",
       "      <th>converted</th>\n",
       "      <th>totalvisits</th>\n",
       "      <th>total_time_spent_on_website</th>\n",
       "      <th>page_views_per_visit</th>\n",
       "      <th>...</th>\n",
       "      <th>tags</th>\n",
       "      <th>lead_quality</th>\n",
       "      <th>lead_profile</th>\n",
       "      <th>city</th>\n",
       "      <th>asymmetrique_activity_index</th>\n",
       "      <th>asymmetrique_profile_index</th>\n",
       "      <th>asymmetrique_activity_score</th>\n",
       "      <th>asymmetrique_profile_score</th>\n",
       "      <th>a_free_copy_of_mastering_the_interview</th>\n",
       "      <th>last_notable_activity</th>\n",
       "    </tr>\n",
       "  </thead>\n",
       "  <tbody>\n",
       "    <tr>\n",
       "      <th>0</th>\n",
       "      <td>7927b2df-8bba-4d29-b9a2-b6e0beafe620</td>\n",
       "      <td>660737</td>\n",
       "      <td>api</td>\n",
       "      <td>olark_chat</td>\n",
       "      <td>no</td>\n",
       "      <td>no</td>\n",
       "      <td>0</td>\n",
       "      <td>0.0</td>\n",
       "      <td>0</td>\n",
       "      <td>0.0</td>\n",
       "      <td>...</td>\n",
       "      <td>interested_in_other_courses</td>\n",
       "      <td>low_in_relevance</td>\n",
       "      <td>select</td>\n",
       "      <td>select</td>\n",
       "      <td>02.medium</td>\n",
       "      <td>02.medium</td>\n",
       "      <td>15.0</td>\n",
       "      <td>15.0</td>\n",
       "      <td>no</td>\n",
       "      <td>modified</td>\n",
       "    </tr>\n",
       "    <tr>\n",
       "      <th>1</th>\n",
       "      <td>2a272436-5132-4136-86fa-dcc88c88f482</td>\n",
       "      <td>660728</td>\n",
       "      <td>api</td>\n",
       "      <td>organic_search</td>\n",
       "      <td>no</td>\n",
       "      <td>no</td>\n",
       "      <td>0</td>\n",
       "      <td>5.0</td>\n",
       "      <td>674</td>\n",
       "      <td>2.5</td>\n",
       "      <td>...</td>\n",
       "      <td>ringing</td>\n",
       "      <td>NaN</td>\n",
       "      <td>select</td>\n",
       "      <td>select</td>\n",
       "      <td>02.medium</td>\n",
       "      <td>02.medium</td>\n",
       "      <td>15.0</td>\n",
       "      <td>15.0</td>\n",
       "      <td>no</td>\n",
       "      <td>email_opened</td>\n",
       "    </tr>\n",
       "    <tr>\n",
       "      <th>2</th>\n",
       "      <td>8cc8c611-a219-4f35-ad23-fdfd2656bd8a</td>\n",
       "      <td>660727</td>\n",
       "      <td>landing_page_submission</td>\n",
       "      <td>direct_traffic</td>\n",
       "      <td>no</td>\n",
       "      <td>no</td>\n",
       "      <td>1</td>\n",
       "      <td>2.0</td>\n",
       "      <td>1532</td>\n",
       "      <td>2.0</td>\n",
       "      <td>...</td>\n",
       "      <td>will_revert_after_reading_the_email</td>\n",
       "      <td>might_be</td>\n",
       "      <td>potential_lead</td>\n",
       "      <td>mumbai</td>\n",
       "      <td>02.medium</td>\n",
       "      <td>01.high</td>\n",
       "      <td>14.0</td>\n",
       "      <td>20.0</td>\n",
       "      <td>yes</td>\n",
       "      <td>email_opened</td>\n",
       "    </tr>\n",
       "    <tr>\n",
       "      <th>3</th>\n",
       "      <td>0cc2df48-7cf4-4e39-9de9-19797f9b38cc</td>\n",
       "      <td>660719</td>\n",
       "      <td>landing_page_submission</td>\n",
       "      <td>direct_traffic</td>\n",
       "      <td>no</td>\n",
       "      <td>no</td>\n",
       "      <td>0</td>\n",
       "      <td>1.0</td>\n",
       "      <td>305</td>\n",
       "      <td>1.0</td>\n",
       "      <td>...</td>\n",
       "      <td>ringing</td>\n",
       "      <td>not_sure</td>\n",
       "      <td>select</td>\n",
       "      <td>mumbai</td>\n",
       "      <td>02.medium</td>\n",
       "      <td>01.high</td>\n",
       "      <td>13.0</td>\n",
       "      <td>17.0</td>\n",
       "      <td>no</td>\n",
       "      <td>modified</td>\n",
       "    </tr>\n",
       "    <tr>\n",
       "      <th>4</th>\n",
       "      <td>3256f628-e534-4826-9d63-4a8b88782852</td>\n",
       "      <td>660681</td>\n",
       "      <td>landing_page_submission</td>\n",
       "      <td>google</td>\n",
       "      <td>no</td>\n",
       "      <td>no</td>\n",
       "      <td>1</td>\n",
       "      <td>2.0</td>\n",
       "      <td>1428</td>\n",
       "      <td>1.0</td>\n",
       "      <td>...</td>\n",
       "      <td>will_revert_after_reading_the_email</td>\n",
       "      <td>might_be</td>\n",
       "      <td>select</td>\n",
       "      <td>mumbai</td>\n",
       "      <td>02.medium</td>\n",
       "      <td>01.high</td>\n",
       "      <td>15.0</td>\n",
       "      <td>18.0</td>\n",
       "      <td>no</td>\n",
       "      <td>modified</td>\n",
       "    </tr>\n",
       "  </tbody>\n",
       "</table>\n",
       "<p>5 rows × 32 columns</p>\n",
       "</div>"
      ],
      "text/plain": [
       "                            prospect_id  lead_number              lead_origin  \\\n",
       "0  7927b2df-8bba-4d29-b9a2-b6e0beafe620       660737                      api   \n",
       "1  2a272436-5132-4136-86fa-dcc88c88f482       660728                      api   \n",
       "2  8cc8c611-a219-4f35-ad23-fdfd2656bd8a       660727  landing_page_submission   \n",
       "3  0cc2df48-7cf4-4e39-9de9-19797f9b38cc       660719  landing_page_submission   \n",
       "4  3256f628-e534-4826-9d63-4a8b88782852       660681  landing_page_submission   \n",
       "\n",
       "      lead_source do_not_email do_not_call  converted  totalvisits  \\\n",
       "0      olark_chat           no          no          0          0.0   \n",
       "1  organic_search           no          no          0          5.0   \n",
       "2  direct_traffic           no          no          1          2.0   \n",
       "3  direct_traffic           no          no          0          1.0   \n",
       "4          google           no          no          1          2.0   \n",
       "\n",
       "   total_time_spent_on_website  page_views_per_visit  ...  \\\n",
       "0                            0                   0.0  ...   \n",
       "1                          674                   2.5  ...   \n",
       "2                         1532                   2.0  ...   \n",
       "3                          305                   1.0  ...   \n",
       "4                         1428                   1.0  ...   \n",
       "\n",
       "                                  tags      lead_quality    lead_profile  \\\n",
       "0          interested_in_other_courses  low_in_relevance          select   \n",
       "1                              ringing               NaN          select   \n",
       "2  will_revert_after_reading_the_email          might_be  potential_lead   \n",
       "3                              ringing          not_sure          select   \n",
       "4  will_revert_after_reading_the_email          might_be          select   \n",
       "\n",
       "     city asymmetrique_activity_index asymmetrique_profile_index  \\\n",
       "0  select                   02.medium                  02.medium   \n",
       "1  select                   02.medium                  02.medium   \n",
       "2  mumbai                   02.medium                    01.high   \n",
       "3  mumbai                   02.medium                    01.high   \n",
       "4  mumbai                   02.medium                    01.high   \n",
       "\n",
       "  asymmetrique_activity_score asymmetrique_profile_score  \\\n",
       "0                        15.0                       15.0   \n",
       "1                        15.0                       15.0   \n",
       "2                        14.0                       20.0   \n",
       "3                        13.0                       17.0   \n",
       "4                        15.0                       18.0   \n",
       "\n",
       "  a_free_copy_of_mastering_the_interview last_notable_activity  \n",
       "0                                     no              modified  \n",
       "1                                     no          email_opened  \n",
       "2                                    yes          email_opened  \n",
       "3                                     no              modified  \n",
       "4                                     no              modified  \n",
       "\n",
       "[5 rows x 32 columns]"
      ]
     },
     "execution_count": 31,
     "metadata": {},
     "output_type": "execute_result"
    }
   ],
   "source": [
    "df1.head()"
   ]
  },
  {
   "cell_type": "code",
   "execution_count": 32,
   "metadata": {},
   "outputs": [
    {
     "name": "stdout",
     "output_type": "stream",
     "text": [
      "prospect_id                                         0\n",
      "lead_number                                         0\n",
      "lead_origin                                         0\n",
      "lead_source                                        36\n",
      "do_not_email                                        0\n",
      "do_not_call                                         0\n",
      "converted                                           0\n",
      "totalvisits                                       137\n",
      "total_time_spent_on_website                         0\n",
      "page_views_per_visit                              137\n",
      "last_activity                                     103\n",
      "country                                          2461\n",
      "specialization                                   1438\n",
      "how_did_you_hear_about_x_education               2207\n",
      "what_is_your_current_occupation                  2690\n",
      "what_matters_most_to_you_in_choosing_a_course    2709\n",
      "search                                              0\n",
      "newspaper_article                                   0\n",
      "x_education_forums                                  0\n",
      "newspaper                                           0\n",
      "digital_advertisement                               0\n",
      "through_recommendations                             0\n",
      "tags                                             3353\n",
      "lead_quality                                     4767\n",
      "lead_profile                                     2709\n",
      "city                                             1420\n",
      "asymmetrique_activity_index                      4218\n",
      "asymmetrique_profile_index                       4218\n",
      "asymmetrique_activity_score                      4218\n",
      "asymmetrique_profile_score                       4218\n",
      "a_free_copy_of_mastering_the_interview              0\n",
      "last_notable_activity                               0\n",
      "dtype: int64\n",
      "9240\n"
     ]
    }
   ],
   "source": [
    "print(df1.isnull().sum())\n",
    "print(len(df1))"
   ]
  },
  {
   "cell_type": "code",
   "execution_count": null,
   "metadata": {},
   "outputs": [],
   "source": [
    "\n"
   ]
  },
  {
   "cell_type": "code",
   "execution_count": 33,
   "metadata": {},
   "outputs": [
    {
     "name": "stdout",
     "output_type": "stream",
     "text": [
      "prospect_id\n",
      "['7927b2df-8bba-4d29-b9a2-b6e0beafe620'\n",
      " '2a272436-5132-4136-86fa-dcc88c88f482'\n",
      " '8cc8c611-a219-4f35-ad23-fdfd2656bd8a' ...\n",
      " 'aac550fe-a586-452d-8d3c-f1b62c94e02c'\n",
      " '5330a7d1-2f2b-4df4-85d6-64ca2f6b95b9'\n",
      " '571b5c8e-a5b2-4d57-8574-f2ffb06fdeff']\n",
      "\n",
      "\n",
      "lead_number\n",
      "[660737 660728 660727 ... 579545 579538 579533]\n",
      "\n",
      "\n",
      "lead_origin\n",
      "['api' 'landing_page_submission' 'lead_add_form' 'lead_import'\n",
      " 'quick_add_form']\n",
      "\n",
      "\n",
      "lead_source\n",
      "['olark_chat' 'organic_search' 'direct_traffic' 'google' 'referral_sites'\n",
      " 'welingak_website' 'reference' 'facebook' nan 'blog' 'pay_per_click_ads'\n",
      " 'bing' 'social_media' 'welearn' 'click2call' 'live_chat'\n",
      " 'welearnblog_home' 'youtubechannel' 'testone' 'press_release' 'nc_edm']\n",
      "\n",
      "\n",
      "do_not_email\n",
      "['no' 'yes']\n",
      "\n",
      "\n",
      "do_not_call\n",
      "['no' 'yes']\n",
      "\n",
      "\n",
      "converted\n",
      "[0 1]\n",
      "\n",
      "\n",
      "totalvisits\n",
      "[  0.   5.   2.   1.   4.   8.  11.   6.   3.   7.  13.  17.  nan   9.\n",
      "  12.  10.  16.  14.  21.  15.  22.  19.  18.  20.  43.  30.  23.  55.\n",
      " 141.  25.  27.  29.  24.  28.  26.  74.  41.  54. 115. 251.  32.  42.]\n",
      "\n",
      "\n",
      "total_time_spent_on_website\n",
      "[   0  674 1532 ...  603  483  927]\n",
      "\n",
      "\n",
      "page_views_per_visit\n",
      "[ 0.    2.5   2.    1.    4.    8.    2.67 11.    5.    6.    3.    1.33\n",
      "  1.5   3.5   7.    2.33 13.    8.5   5.5   1.67   nan  4.5   3.33 16.\n",
      " 12.    1.71  1.8   6.5   4.33 14.    3.4  10.    1.25  1.75  2.63 15.\n",
      "  2.25  3.67  1.43  9.    2.6   4.75  1.27  3.25  5.33  2.57  2.17  2.75\n",
      "  2.8   2.2   2.86  3.91  1.4   5.67  3.2   1.38  2.09  2.4  55.    5.25\n",
      "  6.71  3.57  2.22  1.83  3.6   1.2   1.57  1.56  5.4   4.25  1.31  1.6\n",
      "  2.9   1.23  1.78  3.83  7.5   1.14  2.71  1.45  2.38  1.86  2.29  1.21\n",
      " 12.33  3.43  2.56  6.33  1.64  8.21  4.4   3.17  8.33  1.48  1.22 24.\n",
      "  3.75  6.67  1.54  2.13  2.14  2.45  3.29  4.17  1.63  3.38  1.17 14.5\n",
      "  3.8   1.19  3.82  2.83  1.93 11.5   2.08]\n",
      "\n",
      "\n",
      "last_activity\n",
      "['page_visited_on_website' 'email_opened' 'unreachable'\n",
      " 'converted_to_lead' 'olark_chat_conversation' 'email_bounced'\n",
      " 'email_link_clicked' 'form_submitted_on_website' 'unsubscribed'\n",
      " 'had_a_phone_conversation' 'view_in_browser_link_clicked' nan\n",
      " 'approached_upfront' 'sms_sent' 'visited_booth_in_tradeshow'\n",
      " 'resubscribed_to_emails' 'email_received' 'email_marked_spam']\n",
      "\n",
      "\n",
      "country\n",
      "[nan 'india' 'russia' 'kuwait' 'oman' 'united_arab_emirates'\n",
      " 'united_states' 'australia' 'united_kingdom' 'bahrain' 'ghana'\n",
      " 'singapore' 'qatar' 'saudi_arabia' 'belgium' 'france' 'sri_lanka' 'china'\n",
      " 'canada' 'netherlands' 'sweden' 'nigeria' 'hong_kong' 'germany'\n",
      " 'asia/pacific_region' 'uganda' 'kenya' 'italy' 'south_africa' 'tanzania'\n",
      " 'unknown' 'malaysia' 'liberia' 'switzerland' 'denmark' 'philippines'\n",
      " 'bangladesh' 'vietnam' 'indonesia']\n",
      "\n",
      "\n",
      "specialization\n",
      "['select' 'business_administration' 'media_and_advertising' nan\n",
      " 'supply_chain_management' 'it_projects_management' 'finance_management'\n",
      " 'travel_and_tourism' 'human_resource_management' 'marketing_management'\n",
      " 'banking,_investment_and_insurance' 'international_business' 'e-commerce'\n",
      " 'operations_management' 'retail_management' 'services_excellence'\n",
      " 'hospitality_management' 'rural_and_agribusiness' 'healthcare_management'\n",
      " 'e-business']\n",
      "\n",
      "\n",
      "how_did_you_hear_about_x_education\n",
      "['select' 'word_of_mouth' 'other' nan 'online_search' 'multiple_sources'\n",
      " 'advertisements' 'student_of_someschool' 'email' 'social_media' 'sms']\n",
      "\n",
      "\n",
      "what_is_your_current_occupation\n",
      "['unemployed' 'student' nan 'working_professional' 'businessman' 'other'\n",
      " 'housewife']\n",
      "\n",
      "\n",
      "what_matters_most_to_you_in_choosing_a_course\n",
      "['better_career_prospects' nan 'flexibility_&_convenience' 'other']\n",
      "\n",
      "\n",
      "search\n",
      "['no' 'yes']\n",
      "\n",
      "\n",
      "newspaper_article\n",
      "['no' 'yes']\n",
      "\n",
      "\n",
      "x_education_forums\n",
      "['no' 'yes']\n",
      "\n",
      "\n",
      "newspaper\n",
      "['no' 'yes']\n",
      "\n",
      "\n",
      "digital_advertisement\n",
      "['no' 'yes']\n",
      "\n",
      "\n",
      "through_recommendations\n",
      "['no' 'yes']\n",
      "\n",
      "\n",
      "tags\n",
      "['interested_in_other_courses' 'ringing'\n",
      " 'will_revert_after_reading_the_email' nan 'lost_to_eins'\n",
      " 'in_confusion_whether_part_time_or_dlp' 'busy' 'switched_off'\n",
      " 'in_touch_with_eins' 'already_a_student' 'diploma_holder_(not_eligible)'\n",
      " 'graduation_in_progress' 'closed_by_horizzon' 'number_not_provided'\n",
      " 'opp_hangup' 'not_doing_further_education' 'invalid_number'\n",
      " 'wrong_number_given' 'interested__in_full_time_mba' 'still_thinking'\n",
      " 'lost_to_others' 'shall_take_in_the_next_coming_month' 'lateral_student'\n",
      " 'interested_in_next_batch' 'recognition_issue_(dec_approval)'\n",
      " 'want_to_take_admission_but_has_financial_problems'\n",
      " 'university_not_recognized']\n",
      "\n",
      "\n",
      "lead_quality\n",
      "['low_in_relevance' nan 'might_be' 'not_sure' 'worst' 'high_in_relevance']\n",
      "\n",
      "\n",
      "lead_profile\n",
      "['select' 'potential_lead' nan 'other_leads' 'lateral_student'\n",
      " 'dual_specialization_student' 'student_of_someschool']\n",
      "\n",
      "\n",
      "city\n",
      "['select' 'mumbai' nan 'thane_&_outskirts' 'other_metro_cities'\n",
      " 'other_cities' 'other_cities_of_maharashtra' 'tier_ii_cities']\n",
      "\n",
      "\n",
      "asymmetrique_activity_index\n",
      "['02.medium' '01.high' '03.low' nan]\n",
      "\n",
      "\n",
      "asymmetrique_profile_index\n",
      "['02.medium' '01.high' '03.low' nan]\n",
      "\n",
      "\n",
      "asymmetrique_activity_score\n",
      "[15. 14. 13. 17. 16. 11. 12. 10.  9.  8. 18. nan  7.]\n",
      "\n",
      "\n",
      "asymmetrique_profile_score\n",
      "[15. 20. 17. 18. 14. 16. 13. 19. 12. nan 11.]\n",
      "\n",
      "\n",
      "a_free_copy_of_mastering_the_interview\n",
      "['no' 'yes']\n",
      "\n",
      "\n",
      "last_notable_activity\n",
      "['modified' 'email_opened' 'page_visited_on_website' 'email_bounced'\n",
      " 'email_link_clicked' 'unreachable' 'unsubscribed'\n",
      " 'had_a_phone_conversation' 'olark_chat_conversation' 'sms_sent'\n",
      " 'approached_upfront' 'resubscribed_to_emails'\n",
      " 'view_in_browser_link_clicked' 'form_submitted_on_website'\n",
      " 'email_received' 'email_marked_spam']\n",
      "\n",
      "\n"
     ]
    }
   ],
   "source": [
    "for cl in df1.columns:\n",
    "    print (cl)\n",
    "    print(df1[cl].unique())\n",
    "    print()\n",
    "    print()\n",
    "    "
   ]
  },
  {
   "cell_type": "markdown",
   "metadata": {},
   "source": [
    "replacing all missing values with 0"
   ]
  },
  {
   "cell_type": "code",
   "execution_count": 34,
   "metadata": {},
   "outputs": [
    {
     "name": "stdout",
     "output_type": "stream",
     "text": [
      "prospect_id                                      0\n",
      "lead_number                                      0\n",
      "lead_origin                                      0\n",
      "lead_source                                      0\n",
      "do_not_email                                     0\n",
      "do_not_call                                      0\n",
      "converted                                        0\n",
      "totalvisits                                      0\n",
      "total_time_spent_on_website                      0\n",
      "page_views_per_visit                             0\n",
      "last_activity                                    0\n",
      "country                                          0\n",
      "specialization                                   0\n",
      "how_did_you_hear_about_x_education               0\n",
      "what_is_your_current_occupation                  0\n",
      "what_matters_most_to_you_in_choosing_a_course    0\n",
      "search                                           0\n",
      "newspaper_article                                0\n",
      "x_education_forums                               0\n",
      "newspaper                                        0\n",
      "digital_advertisement                            0\n",
      "through_recommendations                          0\n",
      "tags                                             0\n",
      "lead_quality                                     0\n",
      "lead_profile                                     0\n",
      "city                                             0\n",
      "asymmetrique_activity_index                      0\n",
      "asymmetrique_profile_index                       0\n",
      "asymmetrique_activity_score                      0\n",
      "asymmetrique_profile_score                       0\n",
      "a_free_copy_of_mastering_the_interview           0\n",
      "last_notable_activity                            0\n",
      "dtype: int64\n"
     ]
    }
   ],
   "source": [
    "df_old=df1\n",
    "for cl in df1.columns:\n",
    "    if df1[cl].dtype==object:\n",
    "        df1[cl]=df1[cl].fillna(\"other\")\n",
    "    else :\n",
    "        df1[cl]=df1[cl].fillna(0) \n",
    "print(df1.isnull().sum())"
   ]
  },
  {
   "cell_type": "markdown",
   "metadata": {},
   "source": [
    "look at the distribution of non object series "
   ]
  },
  {
   "cell_type": "code",
   "execution_count": 35,
   "metadata": {},
   "outputs": [],
   "source": [
    "import matplotlib.pyplot as plt\n",
    "import seaborn as sns"
   ]
  },
  {
   "cell_type": "code",
   "execution_count": 36,
   "metadata": {},
   "outputs": [
    {
     "name": "stdout",
     "output_type": "stream",
     "text": [
      "lead_number\n",
      "converted\n",
      "totalvisits\n",
      "total_time_spent_on_website\n",
      "page_views_per_visit\n",
      "asymmetrique_activity_score\n",
      "asymmetrique_profile_score\n"
     ]
    },
    {
     "data": {
      "image/png": "[encoded data removed]",
      "text/plain": [
       "<Figure size 640x480 with 1 Axes>"
      ]
     },
     "metadata": {},
     "output_type": "display_data"
    }
   ],
   "source": [
    "numerical=[]\n",
    "categorical=[]\n",
    "for cl in df1.columns:\n",
    "    if df1[cl].dtype!=object:\n",
    "        print (cl)\n",
    "        if cl!='converted':\n",
    "            numerical.append(cl)\n",
    "        sns.histplot(df1[cl][df1[cl]>0], bins=50)\n",
    "    else :\n",
    "        categorical.append(cl)\n",
    "        \n",
    "\n"
   ]
  },
  {
   "cell_type": "code",
   "execution_count": 37,
   "metadata": {},
   "outputs": [
    {
     "data": {
      "text/plain": [
       "<AxesSubplot:xlabel='totalvisits', ylabel='Count'>"
      ]
     },
     "execution_count": 37,
     "metadata": {},
     "output_type": "execute_result"
    },
    {
     "data": {
      "image/png": "[encoded data removed]",
      "text/plain": [
       "<Figure size 640x480 with 1 Axes>"
      ]
     },
     "metadata": {},
     "output_type": "display_data"
    }
   ],
   "source": [
    "sns.histplot(df1['totalvisits'][df1.totalvisits>0], bins=50)\n",
    "#print(categorical)"
   ]
  },
  {
   "cell_type": "code",
   "execution_count": 38,
   "metadata": {},
   "outputs": [
    {
     "data": {
      "text/plain": [
       "<AxesSubplot:xlabel='total_time_spent_on_website', ylabel='Count'>"
      ]
     },
     "execution_count": 38,
     "metadata": {},
     "output_type": "execute_result"
    },
    {
     "data": {
      "image/png": "[encoded data removed]",
      "text/plain": [
       "<Figure size 640x480 with 1 Axes>"
      ]
     },
     "metadata": {},
     "output_type": "display_data"
    }
   ],
   "source": [
    "sns.histplot(df1['total_time_spent_on_website'][df.total_time_spent_on_website>0], bins=50)\n"
   ]
  },
  {
   "cell_type": "code",
   "execution_count": 39,
   "metadata": {},
   "outputs": [
    {
     "data": {
      "text/plain": [
       "<AxesSubplot:xlabel='page_views_per_visit', ylabel='Count'>"
      ]
     },
     "execution_count": 39,
     "metadata": {},
     "output_type": "execute_result"
    },
    {
     "data": {
      "image/png": "[encoded data removed]",
      "text/plain": [
       "<Figure size 640x480 with 1 Axes>"
      ]
     },
     "metadata": {},
     "output_type": "display_data"
    }
   ],
   "source": [
    "sns.histplot(df1['page_views_per_visit'], bins=50)"
   ]
  },
  {
   "cell_type": "code",
   "execution_count": 40,
   "metadata": {},
   "outputs": [
    {
     "data": {
      "text/plain": [
       "<AxesSubplot:xlabel='asymmetrique_activity_score', ylabel='Count'>"
      ]
     },
     "execution_count": 40,
     "metadata": {},
     "output_type": "execute_result"
    },
    {
     "data": {
      "image/png": "[encoded data removed]",
      "text/plain": [
       "<Figure size 640x480 with 1 Axes>"
      ]
     },
     "metadata": {},
     "output_type": "display_data"
    }
   ],
   "source": [
    "sns.histplot(df1.asymmetrique_activity_score[df1.asymmetrique_activity_score>0], bins=50)"
   ]
  },
  {
   "cell_type": "code",
   "execution_count": 41,
   "metadata": {},
   "outputs": [
    {
     "data": {
      "text/plain": [
       "<AxesSubplot:xlabel='asymmetrique_profile_score', ylabel='Count'>"
      ]
     },
     "execution_count": 41,
     "metadata": {},
     "output_type": "execute_result"
    },
    {
     "data": {
      "image/png": "[encoded data removed]",
      "text/plain": [
       "<Figure size 640x480 with 1 Axes>"
      ]
     },
     "metadata": {},
     "output_type": "display_data"
    }
   ],
   "source": [
    "sns.histplot(df1.asymmetrique_profile_score [df1.asymmetrique_profile_score>0], bins=50)"
   ]
  },
  {
   "cell_type": "code",
   "execution_count": 42,
   "metadata": {},
   "outputs": [
    {
     "data": {
      "text/plain": [
       "array(['select', 'potential_lead', 'other', 'other_leads',\n",
       "       'lateral_student', 'dual_specialization_student',\n",
       "       'student_of_someschool'], dtype=object)"
      ]
     },
     "execution_count": 42,
     "metadata": {},
     "output_type": "execute_result"
    }
   ],
   "source": [
    "df1.lead_profile.unique()"
   ]
  },
  {
   "cell_type": "markdown",
   "metadata": {},
   "source": []
  },
  {
   "cell_type": "code",
   "execution_count": 43,
   "metadata": {},
   "outputs": [
    {
     "name": "stderr",
     "output_type": "stream",
     "text": [
      "/home/dabah/.local/lib/python3.10/site-packages/sklearn/metrics/cluster/_supervised.py:66: UserWarning: Clustering metrics expects discrete values but received continuous values for label, and binary values for target\n",
      "  warnings.warn(msg, UserWarning)\n"
     ]
    },
    {
     "data": {
      "text/plain": [
       "lead_number                                      0.666641\n",
       "totalvisits                                      0.012731\n",
       "total_time_spent_on_website                      0.235690\n",
       "page_views_per_visit                             0.012766\n",
       "asymmetrique_activity_score                      0.054284\n",
       "asymmetrique_profile_score                       0.021422\n",
       "prospect_id                                      0.666641\n",
       "lead_origin                                      0.056251\n",
       "lead_source                                      0.062893\n",
       "do_not_email                                     0.010327\n",
       "do_not_call                                      0.000206\n",
       "last_activity                                    0.088512\n",
       "country                                          0.004731\n",
       "specialization                                   0.038453\n",
       "how_did_you_hear_about_x_education               0.046590\n",
       "what_is_your_current_occupation                  0.095197\n",
       "what_matters_most_to_you_in_choosing_a_course    0.060058\n",
       "search                                           0.000003\n",
       "newspaper_article                                0.000006\n",
       "x_education_forums                               0.000053\n",
       "newspaper                                        0.000053\n",
       "digital_advertisement                            0.000018\n",
       "through_recommendations                          0.000168\n",
       "tags                                             0.377844\n",
       "lead_quality                                     0.188120\n",
       "lead_profile                                     0.116273\n",
       "city                                             0.036803\n",
       "asymmetrique_activity_index                      0.011622\n",
       "asymmetrique_profile_index                       0.008341\n",
       "a_free_copy_of_mastering_the_interview           0.000797\n",
       "last_notable_activity                            0.073860\n",
       "dtype: float64"
      ]
     },
     "execution_count": 43,
     "metadata": {},
     "output_type": "execute_result"
    }
   ],
   "source": [
    "from sklearn.metrics import mutual_info_score\n",
    "def mutual_info_churn_score(series):\n",
    "   return mutual_info_score(series,df.converted)\n",
    "#mutual_info_score(df.lead_profile,df.converted)\n",
    "mi = df1[numerical+categorical].apply(mutual_info_churn_score)\n",
    "mi.sort_values(ascending=False)\n",
    "mi\n"
   ]
  },
  {
   "cell_type": "code",
   "execution_count": 44,
   "metadata": {},
   "outputs": [
    {
     "name": "stdout",
     "output_type": "stream",
     "text": [
      "Index(['lead_number', 'totalvisits', 'total_time_spent_on_website',\n",
      "       'page_views_per_visit', 'asymmetrique_activity_score',\n",
      "       'asymmetrique_profile_score', 'prospect_id', 'lead_origin',\n",
      "       'lead_source', 'do_not_email', 'do_not_call', 'last_activity',\n",
      "       'country', 'specialization', 'how_did_you_hear_about_x_education',\n",
      "       'what_is_your_current_occupation',\n",
      "       'what_matters_most_to_you_in_choosing_a_course', 'search',\n",
      "       'newspaper_article', 'x_education_forums', 'newspaper',\n",
      "       'digital_advertisement', 'through_recommendations', 'tags',\n",
      "       'lead_quality', 'lead_profile', 'city', 'asymmetrique_activity_index',\n",
      "       'asymmetrique_profile_index', 'a_free_copy_of_mastering_the_interview',\n",
      "       'last_notable_activity'],\n",
      "      dtype='object')\n"
     ]
    }
   ],
   "source": [
    "print(mi.keys())\n"
   ]
  },
  {
   "cell_type": "code",
   "execution_count": 45,
   "metadata": {},
   "outputs": [],
   "source": [
    "selection=[ 'tags','totalvisits','total_time_spent_on_website','last_notable_activity', 'city', 'converted']"
   ]
  },
  {
   "cell_type": "code",
   "execution_count": 46,
   "metadata": {},
   "outputs": [],
   "source": [
    "import numpy as np"
   ]
  },
  {
   "cell_type": "code",
   "execution_count": 47,
   "metadata": {},
   "outputs": [
    {
     "data": {
      "text/plain": [
       "tags                           0\n",
       "totalvisits                    0\n",
       "total_time_spent_on_website    0\n",
       "last_notable_activity          0\n",
       "city                           0\n",
       "converted                      0\n",
       "dtype: int64"
      ]
     },
     "execution_count": 47,
     "metadata": {},
     "output_type": "execute_result"
    }
   ],
   "source": [
    "df=df1[selection].loc[:]\n",
    "#df['total_time_spent_on_website']=np.log1p( df['total_time_spent_on_website'])\n",
    "df.head()\n",
    "df.isnull().sum()"
   ]
  },
  {
   "cell_type": "code",
   "execution_count": 48,
   "metadata": {},
   "outputs": [
    {
     "data": {
      "text/plain": [
       "tags                           0.377844\n",
       "totalvisits                    0.012731\n",
       "total_time_spent_on_website    0.235690\n",
       "last_notable_activity          0.073860\n",
       "city                           0.036803\n",
       "converted                      0.666641\n",
       "dtype: float64"
      ]
     },
     "execution_count": 48,
     "metadata": {},
     "output_type": "execute_result"
    }
   ],
   "source": [
    "mi = df[:].apply(mutual_info_churn_score)\n",
    "mi.sort_values(ascending=True)\n",
    "mi"
   ]
  },
  {
   "cell_type": "code",
   "execution_count": 49,
   "metadata": {},
   "outputs": [
    {
     "data": {
      "text/plain": [
       "tags                             27\n",
       "totalvisits                      41\n",
       "total_time_spent_on_website    1731\n",
       "last_notable_activity            16\n",
       "city                              8\n",
       "converted                         2\n",
       "dtype: int64"
      ]
     },
     "execution_count": 49,
     "metadata": {},
     "output_type": "execute_result"
    }
   ],
   "source": [
    "df.nunique()"
   ]
  },
  {
   "cell_type": "code",
   "execution_count": 50,
   "metadata": {},
   "outputs": [
    {
     "data": {
      "text/plain": [
       "tags                            object\n",
       "totalvisits                    float64\n",
       "total_time_spent_on_website      int64\n",
       "last_notable_activity           object\n",
       "city                            object\n",
       "converted                        int64\n",
       "dtype: object"
      ]
     },
     "execution_count": 50,
     "metadata": {},
     "output_type": "execute_result"
    }
   ],
   "source": [
    "df.dtypes"
   ]
  },
  {
   "cell_type": "code",
   "execution_count": 51,
   "metadata": {},
   "outputs": [],
   "source": [
    "#df.total_time_spent_on_website[:]=pd.to_numeric(df.total_time_spent_on_website, errors='coerce')"
   ]
  },
  {
   "cell_type": "code",
   "execution_count": 52,
   "metadata": {},
   "outputs": [],
   "source": [
    "#df.converted=pd.to_numeric(df.converted, errors='coerce')"
   ]
  },
  {
   "cell_type": "markdown",
   "metadata": {},
   "source": [
    "Spliting the data into train/validation/test"
   ]
  },
  {
   "cell_type": "code",
   "execution_count": 53,
   "metadata": {},
   "outputs": [
    {
     "data": {
      "text/html": [
       "<div>\n",
       "<style scoped>\n",
       "    .dataframe tbody tr th:only-of-type {\n",
       "        vertical-align: middle;\n",
       "    }\n",
       "\n",
       "    .dataframe tbody tr th {\n",
       "        vertical-align: top;\n",
       "    }\n",
       "\n",
       "    .dataframe thead th {\n",
       "        text-align: right;\n",
       "    }\n",
       "</style>\n",
       "<table border=\"1\" class=\"dataframe\">\n",
       "  <thead>\n",
       "    <tr style=\"text-align: right;\">\n",
       "      <th></th>\n",
       "      <th>tags</th>\n",
       "      <th>totalvisits</th>\n",
       "      <th>total_time_spent_on_website</th>\n",
       "      <th>last_notable_activity</th>\n",
       "      <th>city</th>\n",
       "      <th>converted</th>\n",
       "    </tr>\n",
       "  </thead>\n",
       "  <tbody>\n",
       "    <tr>\n",
       "      <th>0</th>\n",
       "      <td>already_a_student</td>\n",
       "      <td>4.0</td>\n",
       "      <td>329</td>\n",
       "      <td>email_opened</td>\n",
       "      <td>mumbai</td>\n",
       "      <td>0</td>\n",
       "    </tr>\n",
       "    <tr>\n",
       "      <th>1</th>\n",
       "      <td>will_revert_after_reading_the_email</td>\n",
       "      <td>0.0</td>\n",
       "      <td>0</td>\n",
       "      <td>sms_sent</td>\n",
       "      <td>select</td>\n",
       "      <td>1</td>\n",
       "    </tr>\n",
       "    <tr>\n",
       "      <th>2</th>\n",
       "      <td>will_revert_after_reading_the_email</td>\n",
       "      <td>0.0</td>\n",
       "      <td>0</td>\n",
       "      <td>sms_sent</td>\n",
       "      <td>select</td>\n",
       "      <td>1</td>\n",
       "    </tr>\n",
       "    <tr>\n",
       "      <th>3</th>\n",
       "      <td>other</td>\n",
       "      <td>0.0</td>\n",
       "      <td>0</td>\n",
       "      <td>olark_chat_conversation</td>\n",
       "      <td>other</td>\n",
       "      <td>0</td>\n",
       "    </tr>\n",
       "    <tr>\n",
       "      <th>4</th>\n",
       "      <td>number_not_provided</td>\n",
       "      <td>0.0</td>\n",
       "      <td>32</td>\n",
       "      <td>modified</td>\n",
       "      <td>mumbai</td>\n",
       "      <td>0</td>\n",
       "    </tr>\n",
       "    <tr>\n",
       "      <th>...</th>\n",
       "      <td>...</td>\n",
       "      <td>...</td>\n",
       "      <td>...</td>\n",
       "      <td>...</td>\n",
       "      <td>...</td>\n",
       "      <td>...</td>\n",
       "    </tr>\n",
       "    <tr>\n",
       "      <th>1843</th>\n",
       "      <td>other</td>\n",
       "      <td>7.0</td>\n",
       "      <td>1247</td>\n",
       "      <td>email_opened</td>\n",
       "      <td>thane_&amp;_outskirts</td>\n",
       "      <td>1</td>\n",
       "    </tr>\n",
       "    <tr>\n",
       "      <th>1844</th>\n",
       "      <td>other</td>\n",
       "      <td>2.0</td>\n",
       "      <td>1067</td>\n",
       "      <td>email_opened</td>\n",
       "      <td>other_cities_of_maharashtra</td>\n",
       "      <td>0</td>\n",
       "    </tr>\n",
       "    <tr>\n",
       "      <th>1845</th>\n",
       "      <td>ringing</td>\n",
       "      <td>2.0</td>\n",
       "      <td>1391</td>\n",
       "      <td>modified</td>\n",
       "      <td>other_cities</td>\n",
       "      <td>0</td>\n",
       "    </tr>\n",
       "    <tr>\n",
       "      <th>1846</th>\n",
       "      <td>interested_in_other_courses</td>\n",
       "      <td>0.0</td>\n",
       "      <td>0</td>\n",
       "      <td>modified</td>\n",
       "      <td>select</td>\n",
       "      <td>0</td>\n",
       "    </tr>\n",
       "    <tr>\n",
       "      <th>1847</th>\n",
       "      <td>other</td>\n",
       "      <td>0.0</td>\n",
       "      <td>0</td>\n",
       "      <td>email_opened</td>\n",
       "      <td>other</td>\n",
       "      <td>0</td>\n",
       "    </tr>\n",
       "  </tbody>\n",
       "</table>\n",
       "<p>1848 rows × 6 columns</p>\n",
       "</div>"
      ],
      "text/plain": [
       "                                     tags  totalvisits  \\\n",
       "0                       already_a_student          4.0   \n",
       "1     will_revert_after_reading_the_email          0.0   \n",
       "2     will_revert_after_reading_the_email          0.0   \n",
       "3                                   other          0.0   \n",
       "4                     number_not_provided          0.0   \n",
       "...                                   ...          ...   \n",
       "1843                                other          7.0   \n",
       "1844                                other          2.0   \n",
       "1845                              ringing          2.0   \n",
       "1846          interested_in_other_courses          0.0   \n",
       "1847                                other          0.0   \n",
       "\n",
       "      total_time_spent_on_website    last_notable_activity  \\\n",
       "0                             329             email_opened   \n",
       "1                               0                 sms_sent   \n",
       "2                               0                 sms_sent   \n",
       "3                               0  olark_chat_conversation   \n",
       "4                              32                 modified   \n",
       "...                           ...                      ...   \n",
       "1843                         1247             email_opened   \n",
       "1844                         1067             email_opened   \n",
       "1845                         1391                 modified   \n",
       "1846                            0                 modified   \n",
       "1847                            0             email_opened   \n",
       "\n",
       "                             city  converted  \n",
       "0                          mumbai          0  \n",
       "1                          select          1  \n",
       "2                          select          1  \n",
       "3                           other          0  \n",
       "4                          mumbai          0  \n",
       "...                           ...        ...  \n",
       "1843            thane_&_outskirts          1  \n",
       "1844  other_cities_of_maharashtra          0  \n",
       "1845                 other_cities          0  \n",
       "1846                       select          0  \n",
       "1847                        other          0  \n",
       "\n",
       "[1848 rows x 6 columns]"
      ]
     },
     "execution_count": 53,
     "metadata": {},
     "output_type": "execute_result"
    }
   ],
   "source": [
    "from sklearn.model_selection import  train_test_split\n",
    "\n",
    "\n",
    "train_full, df_test= train_test_split(df,test_size=0.2,shuffle=True)\n",
    "df_train, df_validation= train_test_split(train_full,test_size=0.25,shuffle=True)\n",
    "df_train_full=train_full.reset_index(drop=True)\n",
    "df_train_full.reset_index(drop=True)\n",
    "df_train.reset_index(drop=True)\n",
    "df_validation.reset_index(drop=True)\n",
    "df_test.reset_index(drop=True)"
   ]
  },
  {
   "cell_type": "code",
   "execution_count": 78,
   "metadata": {},
   "outputs": [
    {
     "name": "stdout",
     "output_type": "stream",
     "text": [
      "{\"tags\":\"interested_in_other_courses\",\"totalvisits\":0.0,\"total_time_spent_on_website\":0,\"last_notable_activity\":\"modified\",\"city\":\"select\",\"converted\":0}\n"
     ]
    }
   ],
   "source": [
    "print(df_train11.loc[0].to_json())"
   ]
  },
  {
   "cell_type": "markdown",
   "metadata": {},
   "source": [
    "setting up y for different splits "
   ]
  },
  {
   "cell_type": "code",
   "execution_count": 54,
   "metadata": {},
   "outputs": [],
   "source": [
    "y_train= df_train.converted.values\n",
    "y_test=df_test.converted.values\n",
    "y_val=df_validation.converted.values\n",
    "y_train_full=df_train_full.converted.values\n",
    "del df_train['converted']\n",
    "del df_test['converted']\n",
    "del df_validation['converted']\n",
    "del  df_train_full['converted']"
   ]
  },
  {
   "cell_type": "code",
   "execution_count": null,
   "metadata": {},
   "outputs": [],
   "source": []
  },
  {
   "cell_type": "markdown",
   "metadata": {},
   "source": [
    "One hot encoding "
   ]
  },
  {
   "cell_type": "code",
   "execution_count": 55,
   "metadata": {},
   "outputs": [],
   "source": [
    "from sklearn.feature_extraction import DictVectorizer"
   ]
  },
  {
   "cell_type": "code",
   "execution_count": 56,
   "metadata": {},
   "outputs": [],
   "source": [
    "train_dicts =df_train.to_dict(orient='records')\n",
    "dv=DictVectorizer(sparse=False)\n",
    "dv.fit(train_dicts) #show him how the data look like\n",
    "x_train=dv.transform(train_dicts)"
   ]
  },
  {
   "cell_type": "code",
   "execution_count": 57,
   "metadata": {},
   "outputs": [
    {
     "data": {
      "text/plain": [
       "array([  1.,   0.,   0.,   0.,   0.,   0.,   0.,   0.,   0.,   0.,   0.,\n",
       "         0.,   0.,   0.,   0.,   0.,   0.,   0.,   1.,   0.,   0.,   0.,\n",
       "         0.,   0.,   0.,   0.,   0.,   0.,   0.,   0.,   0.,   0.,   0.,\n",
       "         0.,   0.,   0.,   0.,   0.,   1.,   0.,   0.,   0.,   0.,   0.,\n",
       "         0.,   0.,   0.,   0., 726.,   4.])"
      ]
     },
     "execution_count": 57,
     "metadata": {},
     "output_type": "execute_result"
    }
   ],
   "source": [
    "x_train[0]"
   ]
  },
  {
   "cell_type": "markdown",
   "metadata": {},
   "source": [
    " Linear Regression LR "
   ]
  },
  {
   "cell_type": "code",
   "execution_count": 58,
   "metadata": {},
   "outputs": [
    {
     "name": "stdout",
     "output_type": "stream",
     "text": [
      "0.9218975468975469\n"
     ]
    }
   ],
   "source": [
    "from sklearn.linear_model import LogisticRegression\n",
    "model =LogisticRegression(max_iter=10000)\n",
    "model.fit(x_train,y_train)\n",
    "pred_train=model.predict(x_train)\n",
    "print((pred_train==y_train).mean())\n",
    "#print(model.score(pred_train,y_train))\n"
   ]
  },
  {
   "cell_type": "code",
   "execution_count": 59,
   "metadata": {},
   "outputs": [
    {
     "name": "stdout",
     "output_type": "stream",
     "text": [
      "0.9296536796536796\n"
     ]
    },
    {
     "data": {
      "text/plain": [
       "<function print>"
      ]
     },
     "execution_count": 59,
     "metadata": {},
     "output_type": "execute_result"
    }
   ],
   "source": [
    "validation_dicts =df_validation.to_dict(orient='records')\n",
    "x_validation=dv.transform(validation_dicts)\n",
    "pred_validation=model.predict(x_validation)\n",
    "\n",
    "print((pred_validation==y_val).mean())\n",
    "print \n"
   ]
  },
  {
   "cell_type": "code",
   "execution_count": 60,
   "metadata": {},
   "outputs": [
    {
     "name": "stdout",
     "output_type": "stream",
     "text": [
      "[1 0 0 ... 1 0 0] [0 0 1 ... 1 0 0]\n"
     ]
    }
   ],
   "source": [
    "print (pred_train, y_train)"
   ]
  },
  {
   "cell_type": "code",
   "execution_count": 61,
   "metadata": {},
   "outputs": [
    {
     "name": "stdout",
     "output_type": "stream",
     "text": [
      "0.9207328977998046\n"
     ]
    }
   ],
   "source": [
    "from sklearn.metrics import roc_auc_score\n",
    "auc = roc_auc_score(y_val, pred_validation)\n",
    "print(auc)"
   ]
  },
  {
   "cell_type": "markdown",
   "metadata": {},
   "source": [
    "retrain the model with full_train "
   ]
  },
  {
   "cell_type": "code",
   "execution_count": 62,
   "metadata": {},
   "outputs": [
    {
     "name": "stdout",
     "output_type": "stream",
     "text": [
      "0.9247835497835498\n"
     ]
    }
   ],
   "source": [
    "x_train_full=dv.transform(df_train_full.to_dict(orient='records'))\n",
    "model.fit(x_train_full,y_train_full)\n",
    "pred_train_full=model.predict(x_train_full)\n",
    "print((pred_train_full==y_train_full).mean())"
   ]
  },
  {
   "cell_type": "markdown",
   "metadata": {},
   "source": [
    "confusion matrix \n"
   ]
  },
  {
   "cell_type": "code",
   "execution_count": 63,
   "metadata": {},
   "outputs": [
    {
     "name": "stdout",
     "output_type": "stream",
     "text": [
      "Confusion Matrix:\n",
      " [[1107   51]\n",
      " [  79  611]]\n"
     ]
    }
   ],
   "source": [
    "from sklearn.metrics import confusion_matrix\n",
    "cm = confusion_matrix(y_val, pred_validation>=0.5)\n",
    "print(\"Confusion Matrix:\\n\", cm)"
   ]
  },
  {
   "cell_type": "markdown",
   "metadata": {},
   "source": [
    "precision recall"
   ]
  },
  {
   "cell_type": "code",
   "execution_count": 64,
   "metadata": {},
   "outputs": [
    {
     "name": "stdout",
     "output_type": "stream",
     "text": [
      "Precision: 0.9229607250755287\n",
      "Recall: 0.8855072463768116\n",
      "F1 score: 0.9038461538461539\n"
     ]
    }
   ],
   "source": [
    "from sklearn.metrics import precision_score, recall_score\n",
    "precision = precision_score(y_val, pred_validation>0.5, average='binary')\n",
    "recall = recall_score(y_val, pred_validation>00.5, average='binary')\n",
    "print(\"Precision:\", precision)\n",
    "print(\"Recall:\", recall)\n",
    "print(\"F1 score:\",2*(precision*recall/(precision+recall)))"
   ]
  },
  {
   "cell_type": "markdown",
   "metadata": {},
   "source": [
    "ROC curves"
   ]
  },
  {
   "cell_type": "code",
   "execution_count": 65,
   "metadata": {},
   "outputs": [
    {
     "data": {
      "text/plain": [
       "<matplotlib.legend.Legend at 0x79afa59a29e0>"
      ]
     },
     "execution_count": 65,
     "metadata": {},
     "output_type": "execute_result"
    },
    {
     "data": {
      "image/png": "[encoded data removed]",
      "text/plain": [
       "<Figure size 500x500 with 1 Axes>"
      ]
     },
     "metadata": {},
     "output_type": "display_data"
    }
   ],
   "source": [
    "from sklearn.metrics import roc_curve\n",
    "fpr, tpr, thresholds = roc_curve(y_val, pred_validation)\n",
    "plt.figure(figsize=(5, 5))\n",
    "plt.plot(fpr, tpr, label='Model')\n",
    "plt.plot([0, 1], [0, 1], label='Random', linestyle='--')\n",
    "plt.xlabel('FPR') \n",
    "plt.ylabel('TPR')\n",
    "plt.legend()"
   ]
  },
  {
   "cell_type": "markdown",
   "metadata": {},
   "source": [
    "cross validation "
   ]
  },
  {
   "cell_type": "code",
   "execution_count": null,
   "metadata": {},
   "outputs": [],
   "source": []
  },
  {
   "cell_type": "code",
   "execution_count": 66,
   "metadata": {},
   "outputs": [],
   "source": [
    "def train(df_train1, y_train, C=1.0):\n",
    "   df_train=df_train1[selection1]\n",
    "   dicts = df_train.to_dict(orient='records')\n",
    "   dv1=DictVectorizer(sparse=False)\n",
    "   dv1.fit(dicts) #show him how the data look like\n",
    "   x_train=dv1.transform(dicts)\n",
    "\n",
    "   model1 = LogisticRegression(C=C, max_iter=100000)\n",
    "   model1.fit(x_train, y_train)\n",
    "  \n",
    "   return dv, model\n",
    "\n",
    "def predict(df, dv, model):\n",
    "   dicts = df[selection1].to_dict(orient='records')\n",
    "\n",
    "\n",
    "   X = dv.transform(dicts)\n",
    "   y_pred = model.predict_proba(X)[:, 1]\n",
    "\n",
    "\n",
    "   return y_pred"
   ]
  },
  {
   "cell_type": "code",
   "execution_count": 68,
   "metadata": {},
   "outputs": [
    {
     "name": "stdout",
     "output_type": "stream",
     "text": [
      "C=0.001 0.964 +- 0.005\n",
      "C=0.01 0.964 +- 0.005\n",
      "C=0.1 0.964 +- 0.005\n",
      "C=0.5 0.964 +- 0.005\n",
      "C=1 0.964 +- 0.005\n",
      "C=5 0.964 +- 0.005\n",
      "C=10 0.964 +- 0.005\n"
     ]
    }
   ],
   "source": [
    "from sklearn.model_selection import KFold\n",
    "from sklearn.metrics import roc_auc_score\n",
    "n_splits = 5\n",
    "selection1=[ 'tags','totalvisits','last_notable_activity', 'city']\n",
    "for C in [0.001, 0.01, 0.1, 0.5, 1, 5, 10]:\n",
    "   kfold = KFold(n_splits=n_splits, shuffle=True, random_state=1)\n",
    "   scores = []\n",
    "   for train_idx, val_idx in kfold.split(df_train_full):\n",
    "       df_train11 = train_full.iloc[train_idx]\n",
    "       df_val11 = train_full.iloc[val_idx]\n",
    "       y_train11 = df_train11.converted.values\n",
    "       y_val11 = df_val11.converted.values\n",
    "       dv11, model11 = train(df_train11, y_train11)\n",
    "       y_pred11 = predict(df_val11, dv11, model11)\n",
    "       auc11 = roc_auc_score(y_val11, y_pred11)\n",
    "       scores.append(auc11)\n",
    "   print('C=%s %.3f +- %.3f' % (C, np.mean(scores), np.std(scores)))"
   ]
  },
  {
   "cell_type": "markdown",
   "metadata": {},
   "source": [
    "test partition "
   ]
  },
  {
   "cell_type": "code",
   "execution_count": 72,
   "metadata": {},
   "outputs": [
    {
     "name": "stdout",
     "output_type": "stream",
     "text": [
      "Accuracy test score  0.5357142857142857\n",
      "AUC test score  0.49631971200889496\n"
     ]
    },
    {
     "data": {
      "text/plain": [
       "0.5357142857142857"
      ]
     },
     "execution_count": 72,
     "metadata": {},
     "output_type": "execute_result"
    }
   ],
   "source": [
    "x_test=dv.transform(df_validation.to_dict(orient='records'))\n",
    "pred_test=model.predict_proba(x_test)[:, 1]\n",
    "print(\"Accuracy test score \",(y_test==(pred_test>=0.5)).mean())\n",
    "auc_test = roc_auc_score(y_test, pred_test)\n",
    "print('AUC test score ',auc_test)\n",
    "from sklearn.metrics import accuracy_score\n",
    "accuracy_score( y_test,(pred_test >= 0.5))"
   ]
  },
  {
   "cell_type": "markdown",
   "metadata": {},
   "source": [
    "Saving the model"
   ]
  },
  {
   "cell_type": "code",
   "execution_count": 73,
   "metadata": {},
   "outputs": [],
   "source": [
    "import pickle"
   ]
  },
  {
   "cell_type": "code",
   "execution_count": 74,
   "metadata": {},
   "outputs": [],
   "source": [
    "output_file=f'model_1.bin'\n",
    "f_out=open(output_file,'wb')\n",
    "pickle.dump((dv,model),f_out)\n",
    "f_out.close()"
   ]
  },
  {
   "cell_type": "code",
   "execution_count": null,
   "metadata": {},
   "outputs": [],
   "source": []
  }
 ],
 "metadata": {
  "kernelspec": {
   "display_name": "Python 3",
   "language": "python",
   "name": "python3"
  },
  "language_info": {
   "codemirror_mode": {
    "name": "ipython",
    "version": 3
   },
   "file_extension": ".py",
   "mimetype": "text/x-python",
   "name": "python",
   "nbconvert_exporter": "python",
   "pygments_lexer": "ipython3",
   "version": "3.10.12"
  }
 },
 "nbformat": 4,
 "nbformat_minor": 2
}
